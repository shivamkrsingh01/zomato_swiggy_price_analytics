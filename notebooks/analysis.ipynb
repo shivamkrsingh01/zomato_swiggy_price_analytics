{
 "cells": [
  {
   "cell_type": "markdown",
   "metadata": {},
   "source": [
    "# Zomato vs Swiggy Price Analytics\n",
    "## 1. Load and Clean the Data"
   ]
  },
  {
   "cell_type": "code",
   "execution_count": 6,
   "metadata": {},
   "outputs": [
    {
     "data": {
      "text/html": [
       "<div>\n",
       "<style scoped>\n",
       "    .dataframe tbody tr th:only-of-type {\n",
       "        vertical-align: middle;\n",
       "    }\n",
       "\n",
       "    .dataframe tbody tr th {\n",
       "        vertical-align: top;\n",
       "    }\n",
       "\n",
       "    .dataframe thead th {\n",
       "        text-align: right;\n",
       "    }\n",
       "</style>\n",
       "<table border=\"1\" class=\"dataframe\">\n",
       "  <thead>\n",
       "    <tr style=\"text-align: right;\">\n",
       "      <th></th>\n",
       "      <th>City</th>\n",
       "      <th>App</th>\n",
       "      <th>Dish</th>\n",
       "      <th>Base Price</th>\n",
       "      <th>Delivery Fee</th>\n",
       "      <th>Packaging Fee</th>\n",
       "      <th>Platform Fee</th>\n",
       "      <th>Final Price</th>\n",
       "    </tr>\n",
       "  </thead>\n",
       "  <tbody>\n",
       "    <tr>\n",
       "      <th>0</th>\n",
       "      <td>Delhi</td>\n",
       "      <td>Zomato</td>\n",
       "      <td>Paneer Butter Masala</td>\n",
       "      <td>128</td>\n",
       "      <td>24</td>\n",
       "      <td>7</td>\n",
       "      <td>9</td>\n",
       "      <td>168</td>\n",
       "    </tr>\n",
       "    <tr>\n",
       "      <th>1</th>\n",
       "      <td>Delhi</td>\n",
       "      <td>Swiggy</td>\n",
       "      <td>Paneer Butter Masala</td>\n",
       "      <td>187</td>\n",
       "      <td>38</td>\n",
       "      <td>8</td>\n",
       "      <td>10</td>\n",
       "      <td>243</td>\n",
       "    </tr>\n",
       "    <tr>\n",
       "      <th>2</th>\n",
       "      <td>Delhi</td>\n",
       "      <td>Zomato</td>\n",
       "      <td>Chicken Biryani</td>\n",
       "      <td>257</td>\n",
       "      <td>33</td>\n",
       "      <td>19</td>\n",
       "      <td>11</td>\n",
       "      <td>320</td>\n",
       "    </tr>\n",
       "    <tr>\n",
       "      <th>3</th>\n",
       "      <td>Delhi</td>\n",
       "      <td>Swiggy</td>\n",
       "      <td>Chicken Biryani</td>\n",
       "      <td>255</td>\n",
       "      <td>40</td>\n",
       "      <td>17</td>\n",
       "      <td>13</td>\n",
       "      <td>325</td>\n",
       "    </tr>\n",
       "    <tr>\n",
       "      <th>4</th>\n",
       "      <td>Delhi</td>\n",
       "      <td>Zomato</td>\n",
       "      <td>Veg Burger</td>\n",
       "      <td>216</td>\n",
       "      <td>39</td>\n",
       "      <td>15</td>\n",
       "      <td>15</td>\n",
       "      <td>285</td>\n",
       "    </tr>\n",
       "  </tbody>\n",
       "</table>\n",
       "</div>"
      ],
      "text/plain": [
       "    City     App                  Dish  Base Price  Delivery Fee  \\\n",
       "0  Delhi  Zomato  Paneer Butter Masala         128            24   \n",
       "1  Delhi  Swiggy  Paneer Butter Masala         187            38   \n",
       "2  Delhi  Zomato       Chicken Biryani         257            33   \n",
       "3  Delhi  Swiggy       Chicken Biryani         255            40   \n",
       "4  Delhi  Zomato            Veg Burger         216            39   \n",
       "\n",
       "   Packaging Fee  Platform Fee  Final Price  \n",
       "0              7             9          168  \n",
       "1              8            10          243  \n",
       "2             19            11          320  \n",
       "3             17            13          325  \n",
       "4             15            15          285  "
      ]
     },
     "execution_count": 6,
     "metadata": {},
     "output_type": "execute_result"
    }
   ],
   "source": [
    "import pandas as pd\n",
    "df = pd.read_csv('../data/zomato_swiggy_full_dataset.csv')\n",
    "df.head()"
   ]
  },
  {
   "cell_type": "markdown",
   "metadata": {},
   "source": [
    "## 2. Perform Exploratory Analysis"
   ]
  },
  {
   "cell_type": "code",
   "execution_count": 7,
   "metadata": {},
   "outputs": [
    {
     "data": {
      "text/html": [
       "<div>\n",
       "<style scoped>\n",
       "    .dataframe tbody tr th:only-of-type {\n",
       "        vertical-align: middle;\n",
       "    }\n",
       "\n",
       "    .dataframe tbody tr th {\n",
       "        vertical-align: top;\n",
       "    }\n",
       "\n",
       "    .dataframe thead th {\n",
       "        text-align: right;\n",
       "    }\n",
       "</style>\n",
       "<table border=\"1\" class=\"dataframe\">\n",
       "  <thead>\n",
       "    <tr style=\"text-align: right;\">\n",
       "      <th></th>\n",
       "      <th>Delivery Fee</th>\n",
       "      <th>Platform Fee</th>\n",
       "      <th>Extra Charges</th>\n",
       "    </tr>\n",
       "    <tr>\n",
       "      <th>App</th>\n",
       "      <th></th>\n",
       "      <th></th>\n",
       "      <th></th>\n",
       "    </tr>\n",
       "  </thead>\n",
       "  <tbody>\n",
       "    <tr>\n",
       "      <th>Swiggy</th>\n",
       "      <td>30.16</td>\n",
       "      <td>11.40</td>\n",
       "      <td>55.66</td>\n",
       "    </tr>\n",
       "    <tr>\n",
       "      <th>Zomato</th>\n",
       "      <td>29.60</td>\n",
       "      <td>12.06</td>\n",
       "      <td>54.22</td>\n",
       "    </tr>\n",
       "  </tbody>\n",
       "</table>\n",
       "</div>"
      ],
      "text/plain": [
       "        Delivery Fee  Platform Fee  Extra Charges\n",
       "App                                              \n",
       "Swiggy         30.16         11.40          55.66\n",
       "Zomato         29.60         12.06          54.22"
      ]
     },
     "execution_count": 7,
     "metadata": {},
     "output_type": "execute_result"
    }
   ],
   "source": [
    "df['Extra Charges'] = df['Final Price'] - df['Base Price']\n",
    "df.groupby(['App'])[['Delivery Fee', 'Platform Fee', 'Extra Charges']].mean()\n"
   ]
  },
  {
   "cell_type": "markdown",
   "metadata": {},
   "source": [
    "## 3. Visualize Your Findings"
   ]
  },
  {
   "cell_type": "code",
   "execution_count": 8,
   "metadata": {},
   "outputs": [
    {
     "data": {
      "image/png": "[encoded data removed]",
      "text/plain": [
       "<Figure size 640x480 with 1 Axes>"
      ]
     },
     "metadata": {},
     "output_type": "display_data"
    }
   ],
   "source": [
    "import matplotlib.pyplot as plt\n",
    "df.groupby(['City', 'App'])['Final Price'].mean().unstack().plot(kind='bar')\n",
    "plt.title('Average Final Price by App per City')\n",
    "plt.ylabel('Price (₹)')\n",
    "plt.show()"
   ]
  }
 ],
 "metadata": {
  "kernelspec": {
   "display_name": "Python 3",
   "language": "python",
   "name": "python3"
  },
  "language_info": {
   "codemirror_mode": {
    "name": "ipython",
    "version": 3
   },
   "file_extension": ".py",
   "mimetype": "text/x-python",
   "name": "python",
   "nbconvert_exporter": "python",
   "pygments_lexer": "ipython3",
   "version": "3.10.11"
  }
 },
 "nbformat": 4,
 "nbformat_minor": 2
}
